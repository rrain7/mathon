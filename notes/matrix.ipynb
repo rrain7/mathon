{
 "cells": [
  {
   "cell_type": "markdown",
   "id": "47dd319e-6fd2-4a2b-96ab-17ef11eb0939",
   "metadata": {},
   "source": [
    "# 矩阵"
   ]
  },
  {
   "attachments": {},
   "cell_type": "markdown",
   "id": "a371b13b",
   "metadata": {},
   "source": [
    "排成一行的是**行向量**，排成一列的是**列向量**\n",
    "\n",
    "在 Python 中，可以使用 Numpy 库定义一个行向量。"
   ]
  },
  {
   "cell_type": "code",
   "execution_count": 7,
   "id": "0f3f01dc",
   "metadata": {},
   "outputs": [
    {
     "name": "stdout",
     "output_type": "stream",
     "text": [
      "[1 2 3]\n",
      "[[1 2 3]]\n"
     ]
    }
   ],
   "source": [
    "import numpy as np\n",
    "# 一个 1*3 的 矩阵，一个维度\n",
    "a_row_vec = np.array([1,2,3])\n",
    "print(a_row_vec)\n",
    "\n",
    "# 二个维度\n",
    "a_col_mat = np.array([[1,2,3]])\n",
    "print(a_col_mat)"
   ]
  },
  {
   "attachments": {},
   "cell_type": "markdown",
   "id": "6e4a31ca",
   "metadata": {},
   "source": [
    "矩阵是将一系列向量按照一定的顺序拼接到一起的组合。\n",
    "\n",
    "可以对矩阵进行**转置**。\n",
    "\n",
    "对一个行向量进行转置会变成列向量，将此规则应用到矩阵同样也适用，比如将矩阵 ***A*** 进行 **转置**，那么此时 ***A*** 的每个行向量都会变成列向量。\n",
    "\n",
    "eg:\n",
    "A = [\n",
    "    1, 2, 3,\n",
    "    4, 5, 6\n",
    "]\n",
    "\n",
    "对 A 进行转置，\n",
    "B = [\n",
    "    1, 4,\n",
    "    2, 5,\n",
    "    3, 6,\n",
    "]\n",
    "\n",
    "A 是一个 2x3 的矩阵，因为转置后行和列进行了互换，所以转置后的矩阵是一个 3x2 的矩阵。\n"
   ]
  },
  {
   "cell_type": "code",
   "execution_count": 2,
   "id": "ca1079f5",
   "metadata": {},
   "outputs": [
    {
     "name": "stdout",
     "output_type": "stream",
     "text": [
      "a_t = array([[1, 4],\n",
      "       [2, 5],\n",
      "       [3, 6]])\n",
      "a_t.T = array([[1, 2, 3],\n",
      "       [4, 5, 6]])\n"
     ]
    }
   ],
   "source": [
    "import numpy as np\n",
    "a = np.array([[1,2,3],[4,5,6]])\n",
    "\n",
    "# 对 a 进行转置\n",
    "a_t = a.T\n",
    "print(f\"{a_t = }\")\n",
    "\n",
    "# 再次转置会变成 a\n",
    "print(f\"{a_t.T = }\")\n"
   ]
  },
  {
   "cell_type": "markdown",
   "id": "924718a0",
   "metadata": {},
   "source": []
  }
 ],
 "metadata": {
  "kernelspec": {
   "display_name": "Python 3 (ipykernel)",
   "language": "python",
   "name": "python3"
  },
  "language_info": {
   "codemirror_mode": {
    "name": "ipython",
    "version": 3
   },
   "file_extension": ".py",
   "mimetype": "text/x-python",
   "name": "python",
   "nbconvert_exporter": "python",
   "pygments_lexer": "ipython3",
   "version": "3.10.12"
  }
 },
 "nbformat": 4,
 "nbformat_minor": 5
}
